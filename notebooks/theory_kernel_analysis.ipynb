{
 "cells": [
  {
   "cell_type": "markdown",
   "metadata": {},
   "source": [
    "# Theory kernel analysis: a method to evaluate action unit based theories of emotional facial expression perception\n",
    "*Lukas Snoek, Suzanne Oosterwijk, H. Steven Scholte, Rachael Jack, & Philippe Schyns*\n",
    "\n",
    "This notebook describes how \"theory kernels\" can be used to formalize and quantify action-unit based theories. It primarily meant as a demonstration of the method and to showcase some preliminary results (i.e., not as a paper draft).\n",
    "\n",
    "To do:\n",
    "* Check consistency terminology (theory, class, vector)"
   ]
  },
  {
   "cell_type": "markdown",
   "metadata": {},
   "source": [
    "## 1. Introduction\n",
    "The face, and dynamic facial expressions, is a powerful and efficient medium to express and transmit internal cognitive and affective states, and has arguably been formally investigated most often in the context of emotion experience and perception. Since the pioneering work by Paul Ekman (ref), researchers have tried to describe and quantify how, on the one hand, affective states generate facial expressions and, on the other hand, how affective states are inferred from facial expressions. Central to this endeavor are \"action units\" &mdash (groups of) muscles that realize different facial movements. Previous studies have shown that experience of different (categorical) emotions reliably (?) activate specific configurations of action units (ref, ref, ref). Similarly, other studies have shown that specific configurations of action units reliably lead to the perception of different categorical emotions. However, there is no full agreement about the exact mapping between emotion (both in terms of experience and perception) and action units. Since Ekman, there have been many different \"theories\" about this mapping. These theories, while often supported by quantitative analyses, are limited in their value as a *model* of emotion perception. In this study, we develop a novel way to quantify such action unit based theories of emotional facial expression perception, which we call \"theory kernel analysis\".\n",
    "\n",
    "### Action unit based theories of emotional facial expression perception\n",
    "* Discuss the idea of emotion generation == emotion perception (with caveats), cf. Darwin\n",
    "* Summarize/discuss different theories and how they come about (reverse correlation, etc.)\n",
    "* Note that this study is limited to *perception*\n",
    "\n",
    "### What's in a model?\n",
    "* A model is quantitative; allows for prediction of new data\n",
    "* May or may not contain (to-be-estimated) parameters\n",
    "\n",
    "### Current study\n",
    "* reiterate idea in more detail"
   ]
  },
  {
   "cell_type": "markdown",
   "metadata": {},
   "source": [
    "## 2. Methods\n",
    "\n",
    "### 2.1. The proposed method\n",
    "To evaluate AU-based theories of emotional facial expression perception, we propose to formalize those theories as points in \"AU space\". Subsequently, using discrete emotion ratings of facial expression stimuli with known AU configurations, we can embed those stimuli in the same AU space and derive quantitative emotion predictions based on their distance &mdash; computed using a *kernel function* &mdash; to the points representing the different theories. Finally, these predictions can be evaluated by comparing them to actual emotion ratings from human participants.\n",
    "\n",
    "    *Figure with (conceptual) visualization of method*\n",
    "\n",
    "As such, our proposed analysis involves four elements: the encoding of theories in AU space, the encoding of stimuli in AU space, a kernel function to generate predictions, and a metric to summarize accuracy of the theory, which are discussed in turn below.\n",
    "\n",
    "#### 2.1.1. Encoding theories\n",
    "An important concept in our method is the embedding of AU theories (and stimuli with known AU configurations, discussed in the next subsection) into $D$-dimensional numerical vectors, which represent hypotheses of how AU configurations map onto categorical emotions. To explain this concept, suppose that for simplicity we are dealing with theories that are based on a limited set of 10 AUs outlined below:\n",
    "\n",
    "\\begin{align}\n",
    "\\mathrm{AU} = \\{\\mathrm{AU}1, \\mathrm{AU}2, \\mathrm{AU}4, \\mathrm{AU}5, \\mathrm{AU}6, \\mathrm{AU}7, \\mathrm{AU}9, \\mathrm{AU}12, \\mathrm{AU}15, \\mathrm{AU}26\\} \n",
    "\\end{align}\n",
    "\n",
    "In code:"
   ]
  },
  {
   "cell_type": "code",
   "execution_count": 1,
   "metadata": {},
   "outputs": [],
   "source": [
    "# {*} is a set in Python\n",
    "AU = {'AU01', 'AU02', 'AU04', 'AU05', 'AU06', 'AU07', 'AU09', 'AU12', 'AU15', 'AU26'}"
   ]
  },
  {
   "cell_type": "markdown",
   "metadata": {},
   "source": [
    "In other words, in this example, we are dealing with a 10-dimensional AU space ($D=10$). Now, assume that a particular theory, $T$, suggests that humans express the categorical emotion \"happiness\" using a combination of AU12 and AU6 (the \"Duchenne smile\"). Within our 10-dimensional AU space, we can create a binary 10-dimensional vector containing ones at positions associated with AUs that are hypothesized to be used in displaying happiness and zeros elsewhere:\n",
    "\n",
    "\\begin{align}\n",
    "T_{\\mathrm{happy}} =\n",
    "\\begin{bmatrix}\n",
    "0, 0, 0, 0, 1, 0, 0, 1, 0, 0\n",
    "\\end{bmatrix}\n",
    "\\end{align}\n",
    "\n",
    "Let's also implemented this in code as a 10D row vector:"
   ]
  },
  {
   "cell_type": "code",
   "execution_count": 2,
   "metadata": {},
   "outputs": [
    {
     "name": "stdout",
     "output_type": "stream",
     "text": [
      "(1, 10)\n"
     ]
    }
   ],
   "source": [
    "import numpy as np\n",
    "T_happy = np.array([[0, 0, 0, 0, 1, 0, 0, 1, 0, 0]])\n",
    "print(T_happy.shape)"
   ]
  },
  {
   "cell_type": "markdown",
   "metadata": {},
   "source": [
    "Note that, in the above example, values at the positions of hypothesized AUs are all coded 1, which implies that each AU contributes equally to that emotions configuration. This does not have to be the case, however. If, for example, a particular theory hypothesizes that a particular emotion maps onto a combination of AU1 and AU2, but AU1 is thought to be twice as important as AU2, then its theory vector can be constructed as follows: \n",
    "\n",
    "\\begin{align}\n",
    "T_{e} = \\begin{bmatrix} 1, .5, 0, 0, 0, 0, 0, 0, 0, 0 \\end{bmatrix}\n",
    "\\end{align}\n",
    "\n",
    "For simplicity, we assume in this example that each hypothesized AU is equally important (such that theory vectors are binary). Importantly, often, theories hypothesize mappings onto multiple (categorical) affective states ($M$), which we will refer to as *classes*. Here, we assume that our hypothetical theory $T$ limits its mappings to the six basic emotions (i.e., $M = 6$). Specifically, suppose that theory $T$ also hypothesizes specific AU-emotion mappings for the following categorical emotions:\n",
    "\n",
    "* anger: AU4, AU5, AU7\n",
    "* disgust: AU9, AU15\n",
    "* fear: AU1, AU2, AU4, AU7, AU26\n",
    "* sadness: AU1, AU4, AU15\n",
    "* surprise: AU1, AU2, AU5, AU26\n",
    "\n",
    "Accordingly, we can encode the entire set of AU-emotion mappings for a given theory with $M$ classes and $D$ dimensions into a $M \\times D$ matrix, effectively vertically stacking the $M$ different row vectors. For our hypothetical theory $T$, its associated \"theory matrix\" would look like the following:\n",
    "\n",
    "\\begin{align}\n",
    "T = \n",
    "\\begin{bmatrix}\n",
    "0, 0, 1, 1, 0, 1, 0, 0, 0, 0 \\\\\n",
    "0, 0, 0, 0, 0, 0, 1, 0, 1, 0 \\\\\n",
    "1, 1, 1, 0, 0, 1, 0, 0, 0, 1 \\\\\n",
    "0, 0, 0, 0, 1, 0, 0, 1, 0, 0 \\\\\n",
    "1, 0, 1, 0, 0, 0, 0, 0, 1, 0 \\\\\n",
    "1, 1, 0, 1, 0, 0, 0, 0, 0, 1 \\\\\n",
    "\\end{bmatrix}\n",
    "\\end{align}\n",
    "\n",
    "where its rows represent the different classes (emotions):\n",
    "\n",
    "\\begin{align}\n",
    "E = \\{\\mathrm{Anger}, \\mathrm{Disgust}, \\mathrm{Fear}, \\mathrm{Happiness}, \\mathrm{Sadness}, \\mathrm{Surprise}\\}\n",
    "\\end{align}"
   ]
  },
  {
   "cell_type": "code",
   "execution_count": 3,
   "metadata": {},
   "outputs": [],
   "source": [
    "E = {'anger', 'disgust', 'fear', 'happiness', 'sadness', 'surprise'}"
   ]
  },
  {
   "cell_type": "markdown",
   "metadata": {},
   "source": [
    "Although the above represents a hypothetical theory, its sparsity is something we would expect, as facial expressions are unlikely to be generated by a full (dense) set of action units. Again, let's implement this construct as a 2D array:"
   ]
  },
  {
   "cell_type": "code",
   "execution_count": 4,
   "metadata": {},
   "outputs": [
    {
     "name": "stdout",
     "output_type": "stream",
     "text": [
      "(6, 10)\n"
     ]
    }
   ],
   "source": [
    "# We use Th instead of T to prevent confusion with an array's transpose (.T)\n",
    "Th = np.array([\n",
    "    [0, 0, 1, 1, 0, 1, 0, 0, 0, 0],  # anger\n",
    "    [0, 0, 0, 0, 0, 0, 1, 0, 1, 0],  # disgust\n",
    "    [1, 1, 1, 0, 0, 1, 0, 0, 0, 1],  # fear\n",
    "    [0, 0, 0, 0, 1, 0, 0, 1, 0, 0],  # happiness\n",
    "    [1, 0, 1, 0, 0, 0, 0, 0, 1, 0],  # sadness\n",
    "    [1, 1, 0, 1, 0, 0, 0, 0, 0, 1]   # surprise\n",
    "])\n",
    "print(Th.shape)"
   ]
  },
  {
   "cell_type": "markdown",
   "metadata": {},
   "source": [
    "#### 2.1.2. Encoding stimuli\n",
    "In order to evaluate AU-based theories of emotional facial expression perception, we need to evaluate how well these theories are able to predict actual categorical emotion ratings of human participants on stimuli with known AU configurations. Ideally, these theories are evaluated using data from experiments that sample as much as possible of the AU space. Many experiments on emotional facial expression perception, however, use posed and stereotyped stimuli (e.g., facial expressions of extreme joy or anger), which cover only a small part of the entire AU space and thus do not allow for unbiased evaluation of AU-based theories. In contrast, AU-focused psychophysics experiments, which are characterized by randomly and parametrically varying the input space (defined by AU configurations) and collection of resulting percepts (here: perception of categorical emotion) do not impose such contraints (ref Jack).\n",
    "\n",
    "Now, assume there is such psychophysics-style data available, i.e., that we have a set of $N$ stimuli $\\mathbf{S}_{1 \\dots N}$, generated with random AU configurations (drawn from the previously defined set $\\mathrm{AU}$), with associated categorical emotion labels $\\mathbf{e}_{1 \\dots N} \\in E$. The next step in our analysis is to encode these stimuli in AU space in the same way we did for the hypothetical theory. To do so, we need to assume that each stimulus, $S_{i}$, was generated with one or more AUs drawn from the same set that was used to encode the theories in AU space. Then, we can create for each stimulus $S_{i}$ an associated $D$-dimensional binary stimulus vector containing nonzero values at positions associated with active AUs for that stimulus and zeros elsewhere. Note that, the nonzero values at positions associated with active AUs can be all ones (if assumed to be equally \"active\") or be values proportional to the amplitude (or \"activity\") of the active AUs.\n",
    "\n",
    "For example, suppose that stimulus $S_{i}$ contains AU1, AU5, and AU26 which were actived with amplitudes 0.1, 0.5, and 0.8. Then, formally, we can represent this particular stimulus, $S_{i}$, as a 10-dimensional vector:\n",
    "\n",
    "\\begin{align}\n",
    "S_{i} = \n",
    "\\begin{bmatrix}\n",
    "0.1, 0, 0, 0.5, 0, 0, 0, 0, 0, 0.8\n",
    "\\end{bmatrix}\n",
    "\\end{align}\n",
    "\n",
    "Let's also define this as an actual vector:"
   ]
  },
  {
   "cell_type": "code",
   "execution_count": 5,
   "metadata": {},
   "outputs": [],
   "source": [
    "S_i = np.array([[0.1, 0, 0, 0.5, 0, 0, 0, 0, 0, 0.8]])"
   ]
  },
  {
   "cell_type": "markdown",
   "metadata": {},
   "source": [
    "Given that both our theories ($T$) and stimuli ($\\mathbf{S}$) are encoded as vectors in $D$-dimensional AU space, we can discuss using *kernels* to generate quantitative predictors for stimuli given a particular theory."
   ]
  },
  {
   "cell_type": "markdown",
   "metadata": {},
   "source": [
    "#### 2.1.3. Kernel functions\n",
    "Within our theory kernel analysis framework, *kernel functions* (of called just *kernels*) are functions that are, broadly speaking, measures of similarity between two vectors. Applied to our usecase, we use kernel functions ($k$) to quantify the similarity ($\\phi$) between a stimulus with a known action unit configuration ($S_{i}$) and a theory vector for a specific emotion, $j$ ($T_{j}$, e.g., happiness): \n",
    "\n",
    "\\begin{align}\n",
    "\\phi_{i,j} = k(S_{i}, T_{j})\n",
    "\\end{align}\n",
    "\n",
    "Most (linear) kernel functions are based on the dot (inner) product of the theory vector ($T_{j}$) and the stimulus vector ($S_{i}$). In fact, a \"linear kernel\" is just this:\n",
    "\n",
    "\\begin{align}\n",
    "k(S_{i}, T_{j}) = S_{i}T^{T}_{j}\n",
    "\\end{align}\n",
    "\n",
    "(But more complicated kernels exist, like the \"sigmoid kernel\": $\\tanh(\\gamma S_{i}^{T}T_{j} + c_{0}$).)\n",
    "\n",
    "Implementing a linear kernel is as simple as a dot (inner) product:"
   ]
  },
  {
   "cell_type": "code",
   "execution_count": 6,
   "metadata": {},
   "outputs": [
    {
     "name": "stdout",
     "output_type": "stream",
     "text": [
      "Similarity between S_i and T_0: 0.5\n"
     ]
    }
   ],
   "source": [
    "j = 0  # anger\n",
    "phi_ij = np.squeeze(S_i @ Th[j, :].T)\n",
    "print(f\"Similarity between S_i and T_{j}: {phi_ij}\")"
   ]
  },
  {
   "cell_type": "markdown",
   "metadata": {},
   "source": [
    "Note that the absolute magnitude of the similarity to a given class $j$ is not necessarily interpretable, but should be interpreted relative to the similarities to the other classes. To compute the similarity for all classes ($j = 1 \\dots M$), one extend the kernel to compute the similarity between a stimulus vector ($S_{i}$) and a full theory *matrix* ($T$):"
   ]
  },
  {
   "cell_type": "code",
   "execution_count": 19,
   "metadata": {},
   "outputs": [
    {
     "data": {
      "image/png": "[encoded data removed]",
      "text/plain": [
       "<Figure size 432x288 with 1 Axes>"
      ]
     },
     "metadata": {
      "needs_background": "light"
     },
     "output_type": "display_data"
    }
   ],
   "source": [
    "import seaborn as sns  # plotting lib\n",
    "\n",
    "phi_i = S_i @ Th.T\n",
    "ax = sns.barplot(sorted(list(E)), phi_i.squeeze())\n",
    "ax.set_ylabel(r'$\\phi_{i}$ (linear kernel)', fontsize=20);"
   ]
  },
  {
   "cell_type": "markdown",
   "metadata": {},
   "source": [
    "(Similarly, the linear kernel accomodates computing the similarity for multiple stimuli, stored in an $N \\times D$ stimulus *matrix*, as well.)\n",
    "\n",
    "While the similarity to a given theory class vector is arguably proportion to the evidence for that particular class, it is not strictly speaking a *prediction*. To generate a prediction for stimulus $S_{i}$ (i.e., $\\hat{e}_{i}$), one can pick the emotion ($j = 1 \\dots M$) that maximizes its similarity, for some kernel function ($k$), to the stimulus:\n",
    "\n",
    "\\begin{align}\n",
    "\\hat{e}_{i} = \\underset{j}{\\operatorname{argmax}}k(S_{i}, T_{j})\n",
    "\\end{align}\n",
    "\n",
    "Below, this is implemented in code by taking the argmax of the dot product (linear kernel) between the stimulus and the theory array:"
   ]
  },
  {
   "cell_type": "code",
   "execution_count": 21,
   "metadata": {},
   "outputs": [
    {
     "name": "stdout",
     "output_type": "stream",
     "text": [
      "Discrete prediction for S_i: 5 (surprise)\n"
     ]
    }
   ],
   "source": [
    "e_hat = np.argmax(S_i @ Th.T)\n",
    "print(f\"Discrete prediction for S_i: {e_hat} ({sorted(list(E))[e_hat]})\")"
   ]
  },
  {
   "cell_type": "markdown",
   "metadata": {},
   "source": [
    "In a slightly more sophisticated version, we can generate *probabilistic* predictions, e.g., $p(E | T, S_{i})$ by normalizing each of the $j = 1 \\dots M$ similarities ($\\phi_{i,j}$), to the 0-1 range using the softmax function:\n",
    "\n",
    "\\begin{align}\n",
    "P(E_{j} | T, S_{i}) = \\sigma(\\phi_{i, j}) = \\frac{e^{\\beta\\phi_{i, j}}}{\\sum_{j=1}^{M} e^{\\beta\\phi_{i, j}}}\n",
    "\\end{align}\n",
    "\n",
    "where $\\beta$ is the \"inverse temperature\" parameter &mdash; a scaling parameter &mdash; which distributes relatively more mass onto the largest values. In our framework, we can treat this parameter as a model hyperparameter (i.e., a parameter that is not fit, but manually tuned using cross-validation).\n",
    "\n",
    "It is implemented as follows:"
   ]
  },
  {
   "cell_type": "code",
   "execution_count": 22,
   "metadata": {},
   "outputs": [],
   "source": [
    "def softmax(phi, beta):\n",
    "    \"\"\" Softmax function with inverse temperature (beta) parameters.\n",
    "    \n",
    "    Parameters\n",
    "    ----------\n",
    "    phi : array\n",
    "        Similarities for M classes\n",
    "    beta : int/float\n",
    "        Inverse temperature parameter\n",
    "        \n",
    "    Returns\n",
    "    -------\n",
    "    p : array\n",
    "        Probabilities for M classes\n",
    "    \"\"\"\n",
    "    bphi = beta * phi\n",
    "    # max value is subtracted to prevent overflow\n",
    "    p = np.exp(bphi - np.max(bphi)) / np.sum(np.exp(bphi - np.max(bphi)))\n",
    "    \n",
    "    # Get rid of singleton dimension, if there is one\n",
    "    if p.shape[0] == 1:\n",
    "        p = np.squeeze(p)\n",
    "\n",
    "    return p"
   ]
  },
  {
   "cell_type": "markdown",
   "metadata": {},
   "source": [
    "Applying it to our hypothetical stimulus vector $S_{i}$, with different values for $\\beta$ (i.e., 1 and 3) gives the following discrete probability distributions across emotions:"
   ]
  },
  {
   "cell_type": "code",
   "execution_count": 24,
   "metadata": {},
   "outputs": [
    {
     "data": {
      "image/png": "[encoded data removed]",
      "text/plain": [
       "<Figure size 1080x360 with 2 Axes>"
      ]
     },
     "metadata": {
      "needs_background": "light"
     },
     "output_type": "display_data"
    }
   ],
   "source": [
    "import matplotlib.pyplot as plt\n",
    "\n",
    "p_b1 = softmax(S_i @ Th.T, beta=1)\n",
    "p_b3 = softmax(S_i @ Th.T, beta=3)\n",
    "\n",
    "fig, axes = plt.subplots(ncols=2, figsize=(15, 5), sharey=True)\n",
    "sns.barplot(x=sorted(list(E)), y=p_b1, ax=axes[0])\n",
    "axes[0].set_ylabel(r\"$P(E | S_{i}, T)$\", fontsize=25)\n",
    "axes[0].set_title(r\"$\\beta = 1$\", fontsize=25)\n",
    "sns.barplot(x=sorted(list(E)), y=p_b3, ax=axes[1])\n",
    "axes[1].set_title(r\"$\\beta = 3$\", fontsize=25)\n",
    "fig.tight_layout()"
   ]
  },
  {
   "cell_type": "markdown",
   "metadata": {},
   "source": [
    "Note that increasing the $\\beta$ parameter forces more mass onto the class with the highest similarity. Indeed, in the limit, a softmax with an infinite inverse temperature parameter yields a discrete predictor (argmax across the similarity scores).\n",
    "\n",
    "As a side note: instead of the softmax function, you could also use a simple linear probability normalization function (instead of an exponential one like the softmax function): $P(E_{j} | T, S_{i}) = \\frac{\\phi_{i, j}}{\\sum_{j=1}^{M} {\\phi_{i, j}}}$. In practice, this does not yield any performance improvement over softmax normalization, and because the latter is standard practice in many models (e.g., multinomial logistic regression), we stick with softmax normalization for our analyses."
   ]
  },
  {
   "cell_type": "markdown",
   "metadata": {},
   "source": [
    "#### 2.1.4. Quantifying theory accuracy\n",
    "To evaluate each theory, we can compare their (discrete or probabilistic) predictions for a set of stimuli with data from participants who actually rated those same stimuli in terms of perceived emotion. In other words, we can quantitatively assess how well the theoretical predictions match with actual behavior.\n",
    "\n",
    "In our analyses, we used the \"area under the curve of the receiver operating characteristic\" (AUROC) which summarizes the quality of probabilistic predictions in a range from 0 to 1, where 0.5 is chance level performance and 1 is a perfect prediction. For example, suppose we have the following stimuli:"
   ]
  },
  {
   "cell_type": "code",
   "execution_count": 25,
   "metadata": {},
   "outputs": [
    {
     "data": {
      "image/png": "[encoded data removed]",
      "text/plain": [
       "<Figure size 432x288 with 1 Axes>"
      ]
     },
     "metadata": {
      "needs_background": "light"
     },
     "output_type": "display_data"
    }
   ],
   "source": [
    "S = np.array([\n",
    "    [.5, .8, 0., 0., 0., 0., 0., 0., 0., 1.],  # disgust\n",
    "    [0., 1., 0., .3, 0., 0., 0., .2, 0., 0.],  # surprise?\n",
    "    [1., 0., 0., 0., 0., 0., 0., 0., 0., 0.],  # sadness\n",
    "    [0., 0., 0., 0., 0., 0., 1., 0., .5, 0.],  # happy\n",
    "    [0., 0., 0., 0., 0., 0., 0., .9, 0., 0.],  # fear\n",
    "    [0., 0., 1., 0., 0., .3, 0., .2, .3, 0.],  # anger\n",
    "    [.2, 0., 0., 0., 0., 0., 0., 0., 0., .3]   # disgust\n",
    "])\n",
    "\n",
    "# Let's plot it as a \"heatmap\"\n",
    "plt.imshow(S)\n",
    "plt.xticks(range(S.shape[1]), sorted(list(AU)))\n",
    "plt.yticks(range(S.shape[0]), range(1, S.shape[0] + 1))\n",
    "plt.ylabel(\"Stimuli\", fontsize=15);"
   ]
  },
  {
   "cell_type": "markdown",
   "metadata": {},
   "source": [
    "And suppose those stimuli, for a given participant, were rated with the following emotions:"
   ]
  },
  {
   "cell_type": "code",
   "execution_count": 26,
   "metadata": {},
   "outputs": [
    {
     "data": {
      "image/png": "[encoded data removed]",
      "text/plain": [
       "<Figure size 432x288 with 1 Axes>"
      ]
     },
     "metadata": {
      "needs_background": "light"
     },
     "output_type": "display_data"
    }
   ],
   "source": [
    "# e_lab = emotion LABels\n",
    "e_lab = ['disgust', 'surprise', 'sadness', 'happiness', 'fear', 'anger', 'disgust']\n",
    "\n",
    "# e_int = emotion INTegers\n",
    "e_int = np.array([2, 5, 4, 3, 1, 0, 2])\n",
    "\n",
    "# where are \"one-hot encoded\"\n",
    "e_int = np.vstack([np.arange(6) == ei for ei in e_int]).astype(int)\n",
    "\n",
    "# Let's plot it as a heatmap\n",
    "plt.imshow(e_int)\n",
    "plt.title(\"Actual ratings\", fontsize=20)\n",
    "plt.xticks(range(6), sorted(list(E)), rotation=90)\n",
    "plt.yticks(range(S.shape[0]), range(1, S.shape[0] + 1))\n",
    "plt.ylabel('Stimuli', fontsize=15);"
   ]
  },
  {
   "cell_type": "markdown",
   "metadata": {},
   "source": [
    "To get our predictions, we compute the similarity between each stimulus and each class in our theory matrix ($T$), which are subsequently normalized using the softmax function:"
   ]
  },
  {
   "cell_type": "code",
   "execution_count": 27,
   "metadata": {},
   "outputs": [
    {
     "data": {
      "image/png": "[encoded data removed]",
      "text/plain": [
       "<Figure size 432x288 with 1 Axes>"
      ]
     },
     "metadata": {
      "needs_background": "light"
     },
     "output_type": "display_data"
    }
   ],
   "source": [
    "e_hat = softmax(S @ Th.T, beta=1)\n",
    "plt.imshow(e_hat, vmin=0, vmax=e_hat.max())\n",
    "plt.title(\"Predicted ratings\", fontsize=20)\n",
    "plt.xticks(range(6), sorted(list(E)), rotation=90)\n",
    "plt.yticks(range(S.shape[0]), range(1, S.shape[0] + 1))\n",
    "plt.ylabel('Stimuli', fontsize=15);"
   ]
  },
  {
   "cell_type": "markdown",
   "metadata": {},
   "source": [
    "Finally, to evaluate how \"good\" these predictions are, we will use the AUROC score, which will by default (in *scikit-learn*'s implementation) yield the class-average AUROC score:"
   ]
  },
  {
   "cell_type": "code",
   "execution_count": 28,
   "metadata": {},
   "outputs": [],
   "source": [
    "from sklearn.metrics import roc_auc_score\n",
    "score = roc_auc_score(e_int, e_hat)"
   ]
  },
  {
   "cell_type": "markdown",
   "metadata": {},
   "source": [
    "But we can also get the score *per class* (i.e., per emotion):"
   ]
  },
  {
   "cell_type": "code",
   "execution_count": 31,
   "metadata": {},
   "outputs": [
    {
     "data": {
      "image/png": "[encoded data removed]",
      "text/plain": [
       "<Figure size 432x288 with 1 Axes>"
      ]
     },
     "metadata": {
      "needs_background": "light"
     },
     "output_type": "display_data"
    }
   ],
   "source": [
    "score_per_class = roc_auc_score(e_int, e_hat, average=None)\n",
    "\n",
    "# Let's plot all scores (average and class-specific)\n",
    "ax = sns.barplot(sorted(list(E)) + ['average'], np.append(score_per_class, score))\n",
    "ax.axhline(0.5, ls='--', c='k')\n",
    "ax.set_ylabel('AUROC', fontsize=15);"
   ]
  },
  {
   "cell_type": "markdown",
   "metadata": {},
   "source": [
    "## 2.2. Noise ceiling estimation\n",
    "Suppose that, for a given dataset, we find that our theory kernel analysis yields a (class-average) AUROC score of 0.8 &mdash; what can and should be conclude from this score? It is certainly above chance level (a score of 0.5) but also substantially below perfect performance (i.e., a score of 1). Here, we argue that one should not interpret performance relative to a theoretical maximum score, but relative to a *noise ceiling* &mdash; a concept borrowed from systems neuroscience (ref, ref) &mdash; which represents an upper bound that incorporates the between-subject variance in ratings. In other words, a noise ceiling is a way to estimate an upper bound for predictive models that is adjusted for \"consistency\" or \"measurement error\" across subjects.\n",
    "\n",
    "    *figure with visualization of noise ceiling estimation*\n",
    "\n",
    "While noise ceilings are routinely used in systems and cognitive neuroscience, existing methods for estimating noise ceilings are limited to regression models (assuming a continuous target variable, usually some type of brain measurement). In the current study, however, we are dealing with *classification* models, as we are trying to predict a categorical target variable (i.e., categorical emotion ratings). Here, we propose a novel approach to estimate a noise ceiling for predictive performance of classification models.\n",
    "\n",
    "An crucial and necessary element for noise ceiling estimation is the availability of *repeated observations*, because variance (or, inversely, the \"consistency\") between repeats is used for estimation. In this study, we can conceptualize the ratings of the same set of trials across subjects as repeated observations (e.g., twelve participants ratings the same stimulus $S_{i}$ counts as twelve repetitions of that trial). (Note that this type of \"between-subject\" noise ceiling can also be applied to within-subject models, which needs stimulus repeats.)\n",
    "\n",
    "To make this more clear, suppose that there are three subjects who all rated the same stimulus, $S_{i}$, but subject 1 and 2 rated the stimulus as \"disgust\" while the third subject rated the stimulus as \"surprise\":"
   ]
  },
  {
   "cell_type": "code",
   "execution_count": 122,
   "metadata": {},
   "outputs": [
    {
     "data": {
      "image/png": "[encoded data removed]",
      "text/plain": [
       "<Figure size 864x216 with 2 Axes>"
      ]
     },
     "metadata": {
      "needs_background": "light"
     },
     "output_type": "display_data"
    }
   ],
   "source": [
    "S_i = np.array([1., 0., 0., .5, .3, 0., 0., 0., 0., 0.])\n",
    "\n",
    "# Repeat stimulus 3 times\n",
    "S = np.tile(S_i, 3).reshape((3, 10))\n",
    "\n",
    "# Ratings: disgust, disgust, surprise \n",
    "e = np.array([1, 1, 5])\n",
    "\n",
    "e = np.vstack([np.arange(6) == ei for ei in e]).astype(int)\n",
    "\n",
    "fig, axes = plt.subplots(ncols=2, sharey=True, figsize=(12, 3),\n",
    "                         gridspec_kw={'width_ratios':[10, 6]})\n",
    "\n",
    "axes[0].imshow(S, aspect='auto')\n",
    "axes[0].set_xticks(range(S.shape[1]))\n",
    "axes[0].set_xticklabels(sorted(list(AU)))\n",
    "axes[0].set_yticks(range(S.shape[0]))\n",
    "axes[0].set_yticklabels(range(1, S.shape[0] + 1))\n",
    "axes[0].set_ylabel(\"Subjects\", fontsize=15);\n",
    "axes[0].set_title(\"Stimuli\", fontsize=20)\n",
    "\n",
    "axes[1].imshow(e, aspect='auto')\n",
    "axes[1].set_xticks(range(e.shape[1]))\n",
    "axes[1].set_xticklabels(sorted(list(E)))\n",
    "axes[1].set_yticks(range(e.shape[0]))\n",
    "axes[1].set_yticklabels(range(1, S.shape[0] + 1))\n",
    "axes[1].grid(which='minor')\n",
    "axes[1].set_title(\"Ratings\", fontsize=20)\n",
    "\n",
    "fig.tight_layout()"
   ]
  },
  {
   "cell_type": "markdown",
   "metadata": {},
   "source": [
    "Now, we can compute the noise ceiling as the performance (for a given metric) of our model using these optimal predictions:\n",
    "\n",
    "\\begin{align}\n",
    "\\mathrm{noise\\ ceiling} = \\mathrm{score}(e, e_{\\mathrm{opt}})\n",
    "\\end{align}\n",
    "\n",
    "For the example above, we will demonstrate the noise ceiling computation using *accuracy* (instead of AUROC) &mdash; the proportion of correctly classified observations &mdash; for simplicity:"
   ]
  },
  {
   "cell_type": "code",
   "execution_count": 135,
   "metadata": {},
   "outputs": [
    {
     "name": "stdout",
     "output_type": "stream",
     "text": [
      "Noise ceiling: 0.667\n"
     ]
    }
   ],
   "source": [
    "from sklearn.metrics import accuracy_score\n",
    "\n",
    "# e_opt = index of most often occuring class\n",
    "e_opt = np.bincount(np.argmax(e, axis=1)).argmax()\n",
    "e_opt = np.repeat(e_opt, 3)\n",
    "nc = accuracy_score(e.argmax(axis=1), e_opt)\n",
    "print(f\"Noise ceiling: {nc:.3f}\")"
   ]
  },
  {
   "cell_type": "markdown",
   "metadata": {},
   "source": [
    "As expected, the noise ceiling reflects the proportion of trials that match the most frequent class label (i.e., disgust). "
   ]
  },
  {
   "cell_type": "code",
   "execution_count": 153,
   "metadata": {},
   "outputs": [
    {
     "data": {
      "text/plain": [
       "array([[0.667, 0.333],\n",
       "       [0.667, 0.333],\n",
       "       [0.667, 0.333]])"
      ]
     },
     "execution_count": 153,
     "metadata": {},
     "output_type": "execute_result"
    }
   ],
   "source": [
    "idx = e.sum(axis=0) != 0\n",
    "e_opt[:, idx]"
   ]
  },
  {
   "cell_type": "code",
   "execution_count": 151,
   "metadata": {},
   "outputs": [
    {
     "data": {
      "text/plain": [
       "array([0.5, 0.5])"
      ]
     },
     "execution_count": 151,
     "metadata": {},
     "output_type": "execute_result"
    }
   ],
   "source": [
    "e_opt = np.tile([0, 0.667, 0, 0, 0, 0.333], 3).reshape(e.shape)\n",
    "\n",
    "roc_auc_score(e[:, idx], e_opt[:, idx], average=None)"
   ]
  },
  {
   "cell_type": "code",
   "execution_count": 120,
   "metadata": {},
   "outputs": [
    {
     "data": {
      "image/png": "[encoded data removed]",
      "text/plain": [
       "<Figure size 864x216 with 2 Axes>"
      ]
     },
     "metadata": {
      "needs_background": "light"
     },
     "output_type": "display_data"
    }
   ],
   "source": [
    "S_i = np.array([\n",
    "    [1., 0., 0., .5, .3, 0., 0., 0., 0., 0.],\n",
    "    [0., .2, 0., 0., 0., .8, 0., 0., 0., 0.],    \n",
    "    [0., 0., 1., .5, .3, 0., 0., 0., 0., 0.],\n",
    "])\n",
    "\n",
    "# Repeat stimulus 3 times\n",
    "S = np.tile(S_i, 3).reshape((9, 10))\n",
    "\n",
    "# Ratings: disgust, disgust, surprise \n",
    "e = np.array([1, 1, 2, 3, 5, 4, 0, 0, 0])\n",
    "e = np.vstack([np.arange(6) == ei for ei in e]).astype(int)\n",
    "\n",
    "fig, axes = plt.subplots(ncols=2, sharey=True, figsize=(12, 3),\n",
    "                         gridspec_kw={'width_ratios':[10, 6]})\n",
    "\n",
    "axes[0].imshow(S, aspect='auto')\n",
    "axes[0].set_xticks(range(S.shape[1]))\n",
    "axes[0].set_xticklabels(sorted(list(AU)))\n",
    "axes[0].set_yticks(range(S.shape[0]))\n",
    "xtl = [f'sub. {j}, stim. {i}' for i, j in zip(np.repeat([1, 2, 3], 3), np.tile([1, 2, 3], 3))]\n",
    "axes[0].set_yticklabels(xtl)\n",
    "axes[0].set_title(\"Stimuli\", fontsize=20)\n",
    "\n",
    "axes[1].imshow(e, aspect='auto')\n",
    "#axes[1].set_xticks(range(e.shape[1]))\n",
    "#axes[1].set_xticklabels(sorted(list(E)))\n",
    "#axes[1].set_yticks(range(e.shape[0]))\n",
    "#axes[1].set_yticklabels(range(1, S.shape[0] + 1))\n",
    "#axes[1].grid(which='minor')\n",
    "#axes[1].set_title(\"Ratings\", fontsize=20)\n",
    "\n",
    "fig.tight_layout()"
   ]
  },
  {
   "cell_type": "markdown",
   "metadata": {},
   "source": [
    "Given data that contains repeats, we can estimate a noise ceiling by computing what an optimal classifier would predict. It is important to realize that any classifier must give the *same* prediction to a set of *identical* stimuli (i.e., parameterized with the same AUs, in our study). As such, in our example data with three subjects, it is clear that a classifier cannot achieve perfect predictive performance: if the classifier would predict \"disgust\" (the majority rating), it would still classify the rating of subject 3 incorrectly. \n",
    "\n",
    "To estimate the noise ceiling (i.e., an upper bound on predictive performance), we should derive the best possible (optimal) prediction a classifier can make given the between-subject \"inconsistency\". In case of discrete predictions, this is simply the majority class:\n",
    "\n",
    "\\begin{align}\n",
    "\\hat{e}_{\\mathrm{opt}} = \\mathrm{Note\\ sure\\ how\\ to\\ formulate\\ this}\n",
    "\\end{align}\n",
    "\n",
    "In code:"
   ]
  },
  {
   "cell_type": "code",
   "execution_count": 114,
   "metadata": {},
   "outputs": [
    {
     "data": {
      "image/png": "[encoded data removed]",
      "text/plain": [
       "<Figure size 576x216 with 2 Axes>"
      ]
     },
     "metadata": {
      "needs_background": "light"
     },
     "output_type": "display_data"
    }
   ],
   "source": [
    "e_opt = np.bincount(np.argmax(e, axis=1)).argmax()\n",
    "e_opt = np.vstack([range(6) == e_opt for _ in range(S.shape[0])]).astype(int)\n",
    "\n",
    "fig, axes = plt.subplots(ncols=2, sharey=True, figsize=(8, 3))\n",
    "\n",
    "axes[0].imshow(e, aspect='auto')\n",
    "axes[0].set_xticks(range(e.shape[1]))\n",
    "axes[0].set_xticklabels(sorted(list(E)))\n",
    "axes[0].set_yticks(range(e.shape[0]))\n",
    "axes[0].set_yticklabels(range(1, S.shape[0] + 1))\n",
    "axes[0].grid(which='minor')\n",
    "axes[0].set_title(\"Ratings\", fontsize=20)\n",
    "\n",
    "axes[1].imshow(e_opt, aspect='auto')\n",
    "axes[1].set_xticks(range(e.shape[1]))\n",
    "axes[1].set_xticklabels(sorted(list(E)))\n",
    "axes[1].set_yticks(range(e.shape[0]))\n",
    "axes[1].set_yticklabels(range(1, S.shape[0] + 1))\n",
    "axes[1].grid(which='minor')\n",
    "axes[1].set_title(\"Optimal prediction\", fontsize=20);"
   ]
  },
  {
   "cell_type": "code",
   "execution_count": 95,
   "metadata": {},
   "outputs": [
    {
     "ename": "ValueError",
     "evalue": "Only one class present in y_true. ROC AUC score is not defined in that case.",
     "output_type": "error",
     "traceback": [
      "\u001b[0;31m---------------------------------------------------------------------------\u001b[0m",
      "\u001b[0;31mValueError\u001b[0m                                Traceback (most recent call last)",
      "\u001b[0;32m<ipython-input-95-75909cce2cfd>\u001b[0m in \u001b[0;36m<module>\u001b[0;34m\u001b[0m\n\u001b[0;32m----> 1\u001b[0;31m \u001b[0mroc_auc_score\u001b[0m\u001b[0;34m(\u001b[0m\u001b[0me\u001b[0m\u001b[0;34m,\u001b[0m \u001b[0me_opt\u001b[0m\u001b[0;34m)\u001b[0m\u001b[0;34m\u001b[0m\u001b[0;34m\u001b[0m\u001b[0m\n\u001b[0m",
      "\u001b[0;32m~/software/anaconda3/lib/python3.7/site-packages/sklearn/metrics/_ranking.py\u001b[0m in \u001b[0;36mroc_auc_score\u001b[0;34m(y_true, y_score, average, sample_weight, max_fpr, multi_class, labels)\u001b[0m\n\u001b[1;32m    393\u001b[0m                                              max_fpr=max_fpr),\n\u001b[1;32m    394\u001b[0m                                      \u001b[0my_true\u001b[0m\u001b[0;34m,\u001b[0m \u001b[0my_score\u001b[0m\u001b[0;34m,\u001b[0m \u001b[0maverage\u001b[0m\u001b[0;34m,\u001b[0m\u001b[0;34m\u001b[0m\u001b[0;34m\u001b[0m\u001b[0m\n\u001b[0;32m--> 395\u001b[0;31m                                      sample_weight=sample_weight)\n\u001b[0m\u001b[1;32m    396\u001b[0m \u001b[0;34m\u001b[0m\u001b[0m\n\u001b[1;32m    397\u001b[0m \u001b[0;34m\u001b[0m\u001b[0m\n",
      "\u001b[0;32m~/software/anaconda3/lib/python3.7/site-packages/sklearn/metrics/_base.py\u001b[0m in \u001b[0;36m_average_binary_score\u001b[0;34m(binary_metric, y_true, y_score, average, sample_weight)\u001b[0m\n\u001b[1;32m    118\u001b[0m         \u001b[0my_score_c\u001b[0m \u001b[0;34m=\u001b[0m \u001b[0my_score\u001b[0m\u001b[0;34m.\u001b[0m\u001b[0mtake\u001b[0m\u001b[0;34m(\u001b[0m\u001b[0;34m[\u001b[0m\u001b[0mc\u001b[0m\u001b[0;34m]\u001b[0m\u001b[0;34m,\u001b[0m \u001b[0maxis\u001b[0m\u001b[0;34m=\u001b[0m\u001b[0mnot_average_axis\u001b[0m\u001b[0;34m)\u001b[0m\u001b[0;34m.\u001b[0m\u001b[0mravel\u001b[0m\u001b[0;34m(\u001b[0m\u001b[0;34m)\u001b[0m\u001b[0;34m\u001b[0m\u001b[0;34m\u001b[0m\u001b[0m\n\u001b[1;32m    119\u001b[0m         score[c] = binary_metric(y_true_c, y_score_c,\n\u001b[0;32m--> 120\u001b[0;31m                                  sample_weight=score_weight)\n\u001b[0m\u001b[1;32m    121\u001b[0m \u001b[0;34m\u001b[0m\u001b[0m\n\u001b[1;32m    122\u001b[0m     \u001b[0;31m# Average the results\u001b[0m\u001b[0;34m\u001b[0m\u001b[0;34m\u001b[0m\u001b[0;34m\u001b[0m\u001b[0m\n",
      "\u001b[0;32m~/software/anaconda3/lib/python3.7/site-packages/sklearn/metrics/_ranking.py\u001b[0m in \u001b[0;36m_binary_roc_auc_score\u001b[0;34m(y_true, y_score, sample_weight, max_fpr)\u001b[0m\n\u001b[1;32m    219\u001b[0m     \u001b[0;34m\"\"\"Binary roc auc score\"\"\"\u001b[0m\u001b[0;34m\u001b[0m\u001b[0;34m\u001b[0m\u001b[0m\n\u001b[1;32m    220\u001b[0m     \u001b[0;32mif\u001b[0m \u001b[0mlen\u001b[0m\u001b[0;34m(\u001b[0m\u001b[0mnp\u001b[0m\u001b[0;34m.\u001b[0m\u001b[0munique\u001b[0m\u001b[0;34m(\u001b[0m\u001b[0my_true\u001b[0m\u001b[0;34m)\u001b[0m\u001b[0;34m)\u001b[0m \u001b[0;34m!=\u001b[0m \u001b[0;36m2\u001b[0m\u001b[0;34m:\u001b[0m\u001b[0;34m\u001b[0m\u001b[0;34m\u001b[0m\u001b[0m\n\u001b[0;32m--> 221\u001b[0;31m         raise ValueError(\"Only one class present in y_true. ROC AUC score \"\n\u001b[0m\u001b[1;32m    222\u001b[0m                          \"is not defined in that case.\")\n\u001b[1;32m    223\u001b[0m \u001b[0;34m\u001b[0m\u001b[0m\n",
      "\u001b[0;31mValueError\u001b[0m: Only one class present in y_true. ROC AUC score is not defined in that case."
     ]
    }
   ],
   "source": [
    "roc_auc_score(e, e_opt)"
   ]
  },
  {
   "cell_type": "markdown",
   "metadata": {},
   "source": [
    "Note, however, that the term *noise* ceiling is perhaps misleading, as it suggests that any observed between-subject variance is *irreducible noise*."
   ]
  },
  {
   "cell_type": "markdown",
   "metadata": {},
   "source": [
    "### 2.3. Evaluated theories\n",
    "Many action unit based theories of emotion (perception) have been put forward, but in this study we assessed those summarized in the article by [Barrett and colleagues (2019)](https://journals.sagepub.com/doi/full/10.1177/1529100619832930). Additionally, we included the Ekman configuration (2002; taken from [Clark et al., 2020](https://www.frontiersin.org/articles/10.3389/fpsyg.2020.00920/full), Table 3). So, in total, we evaluated six hypothesized sets of action unit configurations (\"theories\", for simplicity):\n",
    "\n",
    "* Darwin\n",
    "* Matsumoto 2008\n",
    "* Keltner 2009\n",
    "* Cordaro 2008 (ref)\n",
    "* Cordaro 2008 (IPC)\n",
    "* Ekman (2002)\n",
    "\n",
    "Each theory postulates one or more AU configurations per emotion. We encoded these configurations in a nested dictionary as shown below:"
   ]
  },
  {
   "cell_type": "code",
   "execution_count": null,
   "metadata": {},
   "outputs": [],
   "source": [
    "import sys\n",
    "sys.path.append('../src')\n",
    "from theories import THEORIES\n",
    "\n",
    "# A dictionary with theories\n",
    "print(f\"THEORIES contains the following theories:\\n{list(THEORIES.keys())}\")"
   ]
  },
  {
   "cell_type": "markdown",
   "metadata": {},
   "source": [
    "Each theory contains configurations for different emotions:"
   ]
  },
  {
   "cell_type": "code",
   "execution_count": null,
   "metadata": {},
   "outputs": [],
   "source": [
    "# let's take Keltner2019 as an example\n",
    "print(f\"There are configurations for the following emotions:\\n{list(THEORIES['Keltner2019'].keys())}\")"
   ]
  },
  {
   "cell_type": "markdown",
   "metadata": {},
   "source": [
    "And these configurations consist of a list of AUs that are hypothesized to be indicative of a particular emotion:"
   ]
  },
  {
   "cell_type": "code",
   "execution_count": null,
   "metadata": {},
   "outputs": [],
   "source": [
    "for emo in THEORIES['Keltner2019']:\n",
    "    print(f\"{emo}: {THEORIES['Keltner2019'][emo]}\")"
   ]
  },
  {
   "cell_type": "markdown",
   "metadata": {},
   "source": [
    "Note that some theories contain multiple configurations for a given emotion. A prominent example is Ekman's theory, which contains up to 16 configurations for some emotions (e.g., for fear):"
   ]
  },
  {
   "cell_type": "code",
   "execution_count": null,
   "metadata": {},
   "outputs": [],
   "source": [
    "print(f\"Configurations for fear in Ekman:\")\n",
    "for i, cfg in THEORIES['Ekman']['fear'].items():\n",
    "    print(f\"{i+1}: {cfg}\")"
   ]
  },
  {
   "cell_type": "markdown",
   "metadata": {},
   "source": [
    "(We describe how we deal with these \"many-to-one mappings\" later.)\n",
    "\n",
    "As described before, we can transform these configurations into $P$ dimensional binary \"theory vectors\". In our dataset, there are $P = 34$ different AUs. Note that originally, the stimuli in this dataset were parameterized with 42 different AUs. This original AU set, however, contained both *compound* AUs (such as *AU25-12* and *AU1-2*) and AUs that could be activated both unilaterally (left or right) and bilaterally (such as *AU12*). In order to encode these stimuli into independent values within the theory vectors, we recoded the compound AUs (e.g., activation of AU1-2 is recoded as activation of both AU1 and AU2) and bilateral AUs (e.g., activation of AU12 is recoded as activation of both AU12L and AU12R), yielding a total of 34 AUs:"
   ]
  },
  {
   "cell_type": "code",
   "execution_count": null,
   "metadata": {},
   "outputs": [],
   "source": [
    "# Load in list of theory matrices\n",
    "import pandas as pd\n",
    "t_df = {t: pd.read_csv(f'../data/{t}.tsv', sep='\\t', index_col=0) for t in THEORIES.keys()}\n",
    "\n",
    "# Show list of parameters\n",
    "print(t_df['Darwin'].columns.tolist())"
   ]
  },
  {
   "cell_type": "markdown",
   "metadata": {},
   "source": [
    "For example, the \"Darwin\" theory matrix looks as follows:"
   ]
  },
  {
   "cell_type": "code",
   "execution_count": null,
   "metadata": {},
   "outputs": [],
   "source": [
    "fig, ax = plt.subplots(figsize=(12, 5))\n",
    "ax.imshow(t_df['Darwin'])\n",
    "ax.set_xticks(range(t_df['Darwin'].shape[1]))\n",
    "ax.set_xticklabels(t_df['Darwin'].columns, rotation=90)\n",
    "ax.set_yticks(range(t_df['Darwin'].shape[0]))\n",
    "ax.set_yticklabels(t_df['Darwin'].index);"
   ]
  },
  {
   "cell_type": "markdown",
   "metadata": {},
   "source": [
    "In the figure above, you can see that Darwin's theory shows multiple configurations for both disgust and surprise, which only differ in a single AU (AU25 vs. AU26).\n",
    "\n",
    "Another way to visualize these theory matrices is to embed them as points in 2D dimensional space using a dimensionality reduction technique called *multidimensional scaling* (MDS). Specifically, using MDS, we can project the different AU configurations (i.e., rows of our theory matrices), which are 34-dimensional vectors, to points in 2D space, in which the high-dimensional (34D) distances between points are preserved as much as possible in the lower-dimensional (2D) space. This embedding (and its visualization) will prove especially helpful in interpretation of our method later.\n",
    "\n",
    "Below, we fit the MDS algorithm on all theory matrices at the same time, but visualize the embedding per theory separately in 2D space:"
   ]
  },
  {
   "cell_type": "code",
   "execution_count": null,
   "metadata": {},
   "outputs": [],
   "source": [
    "from sklearn.manifold import MDS\n",
    "theories = list(THEORIES.keys())\n",
    "idx = np.concatenate([[i] * t_df[key].shape[0] for i, key in enumerate(theories)])\n",
    "mds = MDS(random_state=42)\n",
    "# Fit MDS on all (i.e., concatenated) theory matrices\n",
    "t_mds = mds.fit_transform(pd.concat(t_df, axis=0))\n",
    "\n",
    "# Plot each embedding separately\n",
    "fig, axes = plt.subplots(ncols=3, nrows=2, figsize=(14, 8), sharex=True, sharey=True)\n",
    "for i, ax in enumerate(axes.flatten()):\n",
    "    this_mds = t_mds[idx == i, :]\n",
    "    leg = 'full' if i == 3 else False\n",
    "    sns.scatterplot(this_mds[:, 0], this_mds[:, 1], hue=t_df[theories[i]].index, ax=ax,\n",
    "                    legend=leg, marker='X', s=120)\n",
    "    ax.set_xlim(-3, 3)\n",
    "    ax.set_ylim(-3, 3)\n",
    "    ax.grid()\n",
    "    ax.set_title(list(THEORIES.keys())[i])\n",
    "    \n",
    "fig.text(-0.01, 0.5, 'Dim. 1', fontsize=20, rotation=90, va='center')\n",
    "fig.text(0.515, -0.015, 'Dim. 2', fontsize=20, ha='center')\n",
    "fig.tight_layout();"
   ]
  },
  {
   "cell_type": "markdown",
   "metadata": {},
   "source": [
    "And yet another way to visualize the relation of the different configurations is to look at their (high-dimensional) similarity (instead of looking at distances, as is done with MDS):"
   ]
  },
  {
   "cell_type": "code",
   "execution_count": null,
   "metadata": {
    "scrolled": false
   },
   "outputs": [],
   "source": [
    "fig, axes = plt.subplots(ncols=3, nrows=2, figsize=(16, 12))\n",
    "for i, ax in enumerate(axes.flatten()):\n",
    "    cor = t_df[theories[i]].transpose().corr()\n",
    "    mapp = ax.imshow(cor, vmin=-0.8, vmax=0.8, cmap='coolwarm')\n",
    "    fs = 8 if list(THEORIES.keys())[i] == 'Ekman' else 10\n",
    "    ax.set_xticks(range(cor.shape[0]))\n",
    "    ax.set_xticklabels(cor.columns, rotation=90, fontsize=fs)\n",
    "    ax.set_yticks(range(cor.shape[0]))\n",
    "    ax.set_yticklabels(cor.index, fontsize=fs)\n",
    "    ax.set_title(list(THEORIES.keys())[i])\n",
    "\n",
    "#fig.colorbar(mapp, ax=axes.ravel().tolist(), pad=1)\n",
    "fig.tight_layout()"
   ]
  },
  {
   "cell_type": "markdown",
   "metadata": {},
   "source": [
    "Although theories might postulate different configurations for a single emotion (i.e., a \"many-to-one mapping\"), a proper predictive model should only generate probability distribution across a fixed set of classes (e.g., the six discrete emotions in our study). Therefore, in our analyses, whenever multiple configurations are hypothesized for a given emotion, we use the highest similarity value amongst the different configurations. Formally, for $C$ different configurations for a particular emotion $E_{j}$, we use the one that yields the maximum probability $P(E_{j} | T, S_{i})$:\n",
    "\n",
    "\\begin{align}\n",
    "\\phi_{i,j} := \\underset{c}{\\operatorname{max}}\\phi_{i,j | c}\n",
    "\\end{align}\n",
    "\n",
    "For example, suppose that theory $T$ has 3 different configurations for anger, as demonstrated below (using hypothetical 10-dimensional AU vectors):\""
   ]
  },
  {
   "cell_type": "code",
   "execution_count": null,
   "metadata": {},
   "outputs": [],
   "source": [
    "T_anger = np.array([\n",
    "    [1, 0, 0, 1, 0, 0, 0, 0, 0, 0],\n",
    "    [0, 1, 0, 1, 0, 0, 0, 0, 0, 0],\n",
    "    [0, 0, 0, 1, 0, 0, 0, 0, 0, 0]\n",
    "])"
   ]
  },
  {
   "cell_type": "markdown",
   "metadata": {},
   "source": [
    "Then, for a particular stimulus (e.g., $S_{i}$), we will use maximum similarity score across the $C$ configurations (here: 3):"
   ]
  },
  {
   "cell_type": "code",
   "execution_count": null,
   "metadata": {},
   "outputs": [],
   "source": [
    "np.max(S_i @ T_anger[0, :].T)"
   ]
  },
  {
   "cell_type": "markdown",
   "metadata": {},
   "source": [
    "### 2.4. Data used to evaluate theories\n",
    "We use data from an existing dataset from Glasgow University which contains 2400 emotion ratings of random facial expressions from 60 subjects. Specifically, each stimulus was endowed with a set of \"action units\" (AUs), i.e., specific facial movements, ranging in \"intensity\" from 0.1 to 1), randomly drawn from a full set of 34 action units. Note that these stimuli were generated with a limited set of AUs; specifically, the the number of AUs per stimulus was drawn from a binomial distribution with $n=6$ and $p=0.5$: $N_{\\mathrm{AU}} \\sim \\mathrm{Binom}(6, .5)$."
   ]
  },
  {
   "cell_type": "markdown",
   "metadata": {},
   "source": [
    "## 3. Results"
   ]
  },
  {
   "cell_type": "code",
   "execution_count": null,
   "metadata": {},
   "outputs": [],
   "source": [
    "import pandas as pd\n",
    "import seaborn as sns\n",
    "\n",
    "df = pd.read_csv('../results/auroc.tsv', sep='\\t', index_col=0)\n",
    "sns.catplot(x='emotion', y='score', hue='tk', data=df, kind='boxen', aspect=2);"
   ]
  },
  {
   "cell_type": "code",
   "execution_count": null,
   "metadata": {},
   "outputs": [],
   "source": [
    "sns.catplot(x='tk', y='score', hue='emotion', data=df, kind='boxen', aspect=2);"
   ]
  },
  {
   "cell_type": "code",
   "execution_count": null,
   "metadata": {},
   "outputs": [],
   "source": [
    "preds = pd.read_csv('../results/predictions.tsv', sep='\\t', index_col=0)"
   ]
  },
  {
   "cell_type": "code",
   "execution_count": null,
   "metadata": {},
   "outputs": [],
   "source": [
    "from sklearn.metrics import roc_auc_score\n",
    "from sklearn.preprocessing import OneHotEncoder\n",
    "from tqdm.notebook import tqdm\n",
    "\n",
    "ohe = OneHotEncoder(sparse=False)\n",
    "emo = ['anger', 'disgust', 'fear', 'happy', 'sadness', 'surprise']\n",
    "ohe.fit(np.array(emo)[:, np.newaxis])\n",
    "\n",
    "df_int = []\n",
    "for sub in tqdm(preds['sub'].unique()):\n",
    "    for tk in preds['tk'].unique():\n",
    "        intensities = preds.query(\"sub == @sub\")['intensity'].unique()\n",
    "        scores = np.zeros((5, 6))\n",
    "        scores[:, :] = np.nan\n",
    "        for itns in intensities:\n",
    "            tmp = preds.query(\"tk == @tk & sub == @sub & intensity == @itns\")\n",
    "            y_ohe = ohe.transform(tmp['y_true'].to_numpy()[:, np.newaxis])\n",
    "            e_idx = y_ohe.sum(axis=0) != 0\n",
    "            scores[itns-1, e_idx] = roc_auc_score(y_ohe[:, e_idx], tmp.iloc[:, :6].loc[:, e_idx], average=None)\n",
    "        \n",
    "        scores = pd.DataFrame(scores, index=range(1, 6), columns=emo)\n",
    "        scores['intensity'] = range(1, 6)\n",
    "        scores = pd.melt(scores, id_vars='intensity', var_name='emotion', value_name='score')\n",
    "        scores['sub'] = sub\n",
    "        scores['tk'] = tk\n",
    "        df_int.append(scores)\n",
    "        \n",
    "df_int = pd.concat(df_int)"
   ]
  },
  {
   "cell_type": "code",
   "execution_count": null,
   "metadata": {},
   "outputs": [],
   "source": [
    "sns.catplot(x='emotion', y='score', hue='intensity', row='tk', data=df_int, kind='boxen', aspect=2);"
   ]
  },
  {
   "cell_type": "markdown",
   "metadata": {},
   "source": [
    "## 4. Noise ceiling"
   ]
  },
  {
   "cell_type": "code",
   "execution_count": null,
   "metadata": {},
   "outputs": [],
   "source": [
    "nc = pd.read_csv('../results/noise_ceilings.tsv', sep='\\t', index_col=0)\n",
    "bs_nc = nc.iloc[-1, :]"
   ]
  },
  {
   "cell_type": "code",
   "execution_count": null,
   "metadata": {},
   "outputs": [],
   "source": [
    "import matplotlib.pyplot as plt\n",
    "\n",
    "sns.catplot(x='emotion', y='score', hue='tk', data=df, kind='boxen', aspect=2);\n",
    "for i, this_nc in enumerate(bs_nc):\n",
    "    plt.plot([i-.4, i+.4], [this_nc, this_nc], c='k', ls='--')\n",
    "plt.axhline(0.5, ls='--', c='k')"
   ]
  },
  {
   "cell_type": "code",
   "execution_count": null,
   "metadata": {},
   "outputs": [],
   "source": [
    "sns.catplot(x='tk', y='score', hue='emotion', data=df, kind='boxen', aspect=2);\n",
    "for i in range(6):\n",
    "    plt.plot(np.linspace(i-.35, i+.35, 6), bs_nc, ls='--', c='k')\n",
    "    \n",
    "plt.axhline(0.5, ls='--', c='k')"
   ]
  },
  {
   "cell_type": "code",
   "execution_count": null,
   "metadata": {},
   "outputs": [],
   "source": [
    "g = sns.catplot(x='emotion', y='score', hue='intensity', row='tk', data=df_int, kind='boxen', aspect=12, height=2);\n",
    "for ax in g.axes:\n",
    "    ax[0].set_ylim(0.25, 1)\n",
    "    ax[0].axhline(0.5, ls='--', c='k')\n",
    "    for i in range(6):\n",
    "        ax[0].plot(np.linspace(i-.35, i+.35, 5), [bs_nc[i]] * 5, ls='--', c='k')\n"
   ]
  },
  {
   "cell_type": "code",
   "execution_count": null,
   "metadata": {},
   "outputs": [],
   "source": [
    "df_ml = pd.read_csv('../results/method-ml_analysis-between_auroc.tsv', sep='\\t', index_col=0)\n",
    "sns.catplot(x='emotion', y='score', data=df_ml)"
   ]
  }
 ],
 "metadata": {
  "kernelspec": {
   "display_name": "Python 3",
   "language": "python",
   "name": "python3"
  },
  "language_info": {
   "codemirror_mode": {
    "name": "ipython",
    "version": 3
   },
   "file_extension": ".py",
   "mimetype": "text/x-python",
   "name": "python",
   "nbconvert_exporter": "python",
   "pygments_lexer": "ipython3",
   "version": "3.7.6"
  }
 },
 "nbformat": 4,
 "nbformat_minor": 4
}
