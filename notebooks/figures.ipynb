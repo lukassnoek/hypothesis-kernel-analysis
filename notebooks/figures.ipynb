{
 "cells": [
  {
   "cell_type": "markdown",
   "metadata": {},
   "source": [
    "# Figures of AU-emotion mappings project"
   ]
  },
  {
   "cell_type": "code",
   "execution_count": null,
   "metadata": {},
   "outputs": [],
   "source": [
    "import pandas as pd\n",
    "import seaborn as sns\n",
    "import numpy as np\n",
    "import matplotlib.pyplot as plt\n",
    "%matplotlib inline"
   ]
  },
  {
   "cell_type": "markdown",
   "metadata": {},
   "source": [
    "## Figure 1: emotion expression/perception symmetry\n",
    "Made manually using google draw."
   ]
  },
  {
   "cell_type": "markdown",
   "metadata": {},
   "source": [
    "## Figure 2: overview method\n",
    "Made in google draw, but used the mapping matrix below:"
   ]
  },
  {
   "cell_type": "code",
   "execution_count": null,
   "metadata": {},
   "outputs": [],
   "source": [
    "#AUs = ['AU1', 'AU2', 'AU4', 'AU5', 'AU6', 'AU7', 'AU9', 'AU10', 'AU11', 'AU12', 'AU13', 'AU14',\n",
    "#       'AU15', 'AU16', 'AU17', 'AU20', 'AU22', 'AU23', 'AU24', 'AU25', 'AU26']\n",
    "M_classes = ['Anger', 'Disgust', 'Fear', 'Happiness', 'Surprise', 'Sadness']\n",
    "#M_mapping = [\n",
    "#    ['AU4', 'AU5', 'AU7', 'AU23'],\n",
    "#    ['AU9', 'AU15', 'AU16'],\n",
    "#    ['AU1', 'AU2', 'AU4', 'AU5', 'AU20', 'AU26'],\n",
    "#    ['AU6', 'AU12'],\n",
    "#    ['AU1', 'AU4', 'AU5'],\n",
    "#    ['AU1', 'AU2', 'AU5', 'AU26']\n",
    "#]\n",
    "AUs = ['AU4', 'AU9', 'AU10', 'AU12', 'AU23']\n",
    "M_mapping = [\n",
    "    ['AU4', 'AU23', 'AU10'],\n",
    "    ['AU9', 'AU10'],\n",
    "    ['AU12']\n",
    "]\n",
    "\n",
    "M = [[1 if au in mapp else 0 for au in AUs]\n",
    "     for mapp in M_mapping]\n",
    "M = np.array(M)\n",
    "plt.imshow(M, cmap='gray', aspect=1)\n",
    "plt.xticks([])\n",
    "plt.yticks([])\n",
    "plt.ylabel(r'$Q\\ \\mathrm{(emo.)}$', fontsize=25)\n",
    "plt.xlabel(r'$P\\ \\mathrm{(AU)}$', fontsize=25)\n",
    "plt.show()"
   ]
  },
  {
   "cell_type": "code",
   "execution_count": null,
   "metadata": {},
   "outputs": [],
   "source": [
    "#S_ = [\n",
    "#    ['AU1', 'AU8', 'AU9'],\n",
    "#    ['AU6', 'AU26'],\n",
    "#    ['AU4', 'AU25']   # TO CHANGE!\n",
    "#]\n",
    "S_ = [\n",
    "    ['AU10', 'AU23'],\n",
    "    ['AU9'],\n",
    "    ['AU12'],\n",
    "    ['AU4', 'AU12']\n",
    "]\n",
    "\n",
    "S = [[1 if au in stim else 0 for au in AUs]\n",
    "      for stim in S_]\n",
    "E = [0, 1, 2, 1]\n",
    "E = np.array([e == np.arange(3) for e in E]).astype(int)\n",
    "S = np.array(S)\n",
    "plt.imshow(S, cmap='gray', aspect=1)\n",
    "plt.xticks([])\n",
    "plt.yticks([])\n",
    "plt.ylabel(r'$N\\ \\mathrm{(stim.)}$', fontsize=25)\n",
    "plt.xlabel(r'$P\\ \\mathrm{(AU)}$', fontsize=25)\n",
    "plt.show()"
   ]
  },
  {
   "cell_type": "code",
   "execution_count": null,
   "metadata": {},
   "outputs": [],
   "source": [
    "norm = np.sqrt((S ** 2).sum(axis=1, keepdims=True) @ (M.T ** 2).sum(axis=0, keepdims=True)) \n",
    "ϕ = (S @ M.T) / norm\n",
    "\n",
    "# Alternatively, using scikit-learn:\n",
    "# from sklearn.metrics.pairwise import cosine_similarity\n",
    "# cosine_similarity(S, M)\n",
    "\n",
    "im = plt.imshow(ϕ, cmap='gray', aspect=1)\n",
    "plt.xticks([])\n",
    "plt.yticks([])\n",
    "plt.colorbar(im,fraction=0.05, pad=0.03)\n",
    "plt.text(3.5, 1.5, 'Cosine similarity', rotation=90, va='center', fontsize=20)\n",
    "plt.ylabel(r'$N\\ \\mathrm{(stim.)}$', fontsize=25)\n",
    "plt.xlabel(r'$Q\\ \\mathrm{(emo.)}$', fontsize=25)\n",
    "plt.show()"
   ]
  },
  {
   "cell_type": "code",
   "execution_count": null,
   "metadata": {},
   "outputs": [],
   "source": [
    "def softmax_2d(arr, beta):\n",
    "    \"\"\" Vectorized softmax implementation including an inverse temperature\n",
    "    parameter (beta). It assumes a 2D array with stimuli x features (similarities). \"\"\"\n",
    "    scaled = beta * arr\n",
    "    num = np.exp(scaled - scaled.max(axis=1, keepdims=True))\n",
    "    denom = np.sum(num, axis=1, keepdims=True)\n",
    "    return num / denom\n",
    "\n",
    "pE = softmax_2d(ϕ, 1)\n",
    "im = plt.imshow(pE, cmap='gray', aspect=1)\n",
    "plt.xticks([])\n",
    "plt.yticks([])\n",
    "plt.colorbar(im,fraction=0.05, pad=0.03)\n",
    "plt.text(3.5, 1.5, r'$p(e | \\mathbf{M}, \\mathbf{S})$', rotation=90, va='center', fontsize=20)\n",
    "plt.ylabel(r'$N\\ \\mathrm{(stim.)}$', fontsize=25)\n",
    "plt.xlabel(r'$Q\\ \\mathrm{(emo.)}$', fontsize=25)\n",
    "plt.show()"
   ]
  },
  {
   "cell_type": "code",
   "execution_count": null,
   "metadata": {},
   "outputs": [],
   "source": [
    "im = plt.imshow(E, cmap='gray', aspect=1)\n",
    "plt.xticks([])\n",
    "plt.yticks([])\n",
    "plt.colorbar(im,fraction=0.05, pad=0.03)\n",
    "plt.text(3.5, 1.5, r'$p(e | \\mathbf{M}, \\mathbf{S})$', rotation=90, va='center', fontsize=20)\n",
    "plt.ylabel(r'$N\\ \\mathrm{(stim.)}$', fontsize=25)\n",
    "plt.xlabel(r'$Q\\ \\mathrm{(emo.)}$', fontsize=25)\n",
    "plt.show()"
   ]
  },
  {
   "cell_type": "code",
   "execution_count": null,
   "metadata": {},
   "outputs": [],
   "source": [
    "print(pE.round(2))\n",
    "print(E)"
   ]
  },
  {
   "cell_type": "code",
   "execution_count": null,
   "metadata": {},
   "outputs": [],
   "source": [
    "from sklearn.metrics import roc_auc_score\n",
    "#mask = E.sum(axis=0) != 0\n",
    "#roc_auc_score(E[:, mask], softmax_2d(ϕ[:, mask], 1))\n",
    "score = roc_auc_score(E, pE, average=None)\n",
    "\n",
    "plt.bar([0, 1, 2], score, color=['tab:blue', 'tab:orange', 'darkred'])\n",
    "sns.despine()\n",
    "plt.xlim(-0.5, 2.5)\n",
    "plt.ylim(0.4, 1)\n",
    "plt.axhline(0.5, ls='--', c='k')\n",
    "plt.xticks([0, 1, 2])\n",
    "plt.gca().set_xticklabels([])\n"
   ]
  },
  {
   "cell_type": "markdown",
   "metadata": {},
   "source": [
    "## Figure 3: noise ceiling explanation\n",
    "Made in google draw."
   ]
  },
  {
   "cell_type": "markdown",
   "metadata": {},
   "source": [
    "## Figure 4: MDS"
   ]
  },
  {
   "cell_type": "code",
   "execution_count": null,
   "metadata": {},
   "outputs": [],
   "source": [
    "map2leg = {\n",
    "    'Darwin': 'Darwin (1886)',\n",
    "    'Matsumoto2008': 'Matsumoto et al. (2008)',\n",
    "    'Keltner2019': 'Keltner et al. (2019)',\n",
    "    'Cordaro2018ref': 'Cordaro et al.\\n(2008; ref.)',\n",
    "    'Cordaro2018IPC': 'Cordaro et al.\\n(2008; ICP)',\n",
    "    'Ekman': 'EMFACS'\n",
    "}\n",
    "\n",
    "files = [\n",
    "    '../data/Darwin.tsv',\n",
    "    '../data/Matsumoto2008.tsv',\n",
    "    '../data/Keltner2019.tsv',\n",
    "    '../data/Cordaro2018ref.tsv',\n",
    "    '../data/Cordaro2018IPC.tsv',\n",
    "    '../data/Ekman.tsv'\n",
    "]\n",
    "m_dfs = [pd.read_csv(f, sep='\\t', index_col=0) for f in files]\n",
    "map_names = list(map2leg.values())\n",
    "emo_names = list(m_dfs[0].index.unique())"
   ]
  },
  {
   "cell_type": "code",
   "execution_count": null,
   "metadata": {
    "scrolled": true
   },
   "outputs": [],
   "source": [
    "import matplotlib.lines as mlines\n",
    "from sklearn.manifold import MDS\n",
    "\n",
    "idx = np.concatenate([[i] * m_df.shape[0] for i, m_df in enumerate(m_dfs)])\n",
    "mds = MDS(random_state=1)\n",
    "# Fit MDS on all (i.e., conca|tenated) theory matrices\n",
    "m_mds = mds.fit_transform(pd.concat(m_dfs, axis=0))\n",
    "\n",
    "# Plot each embedding separately\n",
    "fig, axes = plt.subplots(ncols=3, nrows=2, figsize=(14, 8), sharex=True, sharey=True)\n",
    "for i, ax in enumerate(axes.flatten()):\n",
    "    this_mds = m_mds[idx == i, :]\n",
    "    sns.scatterplot(this_mds[:, 0], this_mds[:, 1], hue=m_dfs[i].index, ax=ax,\n",
    "                    legend=False, marker='X', s=120)\n",
    "    ax.set_xlim(-3, 3)\n",
    "    ax.set_ylim(-3.5, 3.5)\n",
    "    ax.grid()\n",
    "    ax.set_title(map_names[i], fontsize=18)\n",
    "    \n",
    "ax = axes.flatten()[2]\n",
    "current_palette = sns.color_palette()\n",
    "ax.legend(handles=[mlines.Line2D([], [], color=current_palette[i], marker='X', linestyle='None', markersize=15, label=e)\n",
    "                   for i, e in enumerate(sorted(list(emo_names)))],\n",
    "          loc='upper right',\n",
    "          frameon=False,\n",
    "          fontsize=15,\n",
    "          bbox_to_anchor=(0.5, 0, 1, 1)\n",
    ")\n",
    "fig.text(-0.01, 0.5, 'Dim. 1', fontsize=20, rotation=90, va='center')\n",
    "fig.text(0.45, -0.015, 'Dim. 2', fontsize=20, ha='center')\n",
    "fig.tight_layout();"
   ]
  },
  {
   "cell_type": "code",
   "execution_count": null,
   "metadata": {},
   "outputs": [],
   "source": [
    "subs = [f'sub-{str(i+1).zfill(2)}' for i in range(60)]\n",
    "dfs = []\n",
    "for sub in subs:\n",
    "    df = pd.read_csv(f'../data/ratings/{sub}_ratings.tsv', sep='\\t', index_col=0).iloc[:, :-2]\n",
    "    dfs.append(df)\n",
    "\n",
    "df = pd.concat(dfs, axis=0)"
   ]
  },
  {
   "cell_type": "code",
   "execution_count": null,
   "metadata": {},
   "outputs": [],
   "source": [
    "#mds = MDS()\n",
    "mds_values = mds.fit_transform(df.drop_duplicates().values)"
   ]
  },
  {
   "cell_type": "code",
   "execution_count": null,
   "metadata": {},
   "outputs": [],
   "source": [
    "sns.jointplot(x=mds_values[:, 0], y=mds_values[:, 1])"
   ]
  },
  {
   "cell_type": "markdown",
   "metadata": {},
   "source": [
    "## Figure 5: main results plot"
   ]
  },
  {
   "cell_type": "code",
   "execution_count": null,
   "metadata": {},
   "outputs": [],
   "source": [
    "ymin = 0.45\n",
    "ymax = 1\n",
    "chance_level = .5\n",
    "\n",
    "df = pd.read_csv('../results/scores.tsv', sep='\\t', index_col=0)\n",
    "df = df.replace(map2leg)\n",
    "df_jsw = pd.read_csv('../results/JS-within_scores.tsv', sep='\\t', index_col=0)\n",
    "df_jsb = pd.read_csv('../results/JS-between_scores.tsv', sep='\\t', index_col=0)\n",
    "df = pd.concat((df, df_jsw, df_jsb), axis=0)\n",
    "\n",
    "nc = pd.read_csv('../results/noise_ceiling2.tsv', sep='\\t', index_col=0)\n",
    "\n",
    "g = sns.catplot(x='emotion', y='score', data=df, hue='mapping',\n",
    "                kind=\"bar\", aspect=3, height=5, ci='sd')\n",
    "g._legend.set_title('')\n",
    "g._legend.set_bbox_to_anchor([1.025, 0.5])\n",
    "\n",
    "plt.setp(g._legend.get_texts(), fontsize=15)\n",
    "\n",
    "ax = sns.stripplot(x='emotion', y='score', hue='mapping',\n",
    "                   edgecolor='black', linewidth=0.4, data=df,\n",
    "                   dodge=True, jitter=True)\n",
    "\n",
    "ax.set_xlabel('')\n",
    "ax.set_ylabel('AUROC', fontsize=20)\n",
    "ax.set_xticklabels(ax.get_xticklabels(), fontsize=20)\n",
    "\n",
    "n_tk = df['mapping'].unique().size\n",
    "for i in range(6):\n",
    "    this_nc = np.array([nc['noise_ceiling'].iloc[i]] * 6)\n",
    "    this_sd = np.array([nc['sd'].iloc[i]] * 6)\n",
    "    plt.plot(np.linspace(i-0.35, i+0.35, num=6), this_nc, c='k', ls='-.')\n",
    "    plt.fill_between(\n",
    "        np.linspace(i-0.35, i+0.35, num=6),\n",
    "        this_nc - this_sd, this_nc + this_sd,\n",
    "        color='gray', alpha=0.3\n",
    ")\n",
    "\n",
    "ax = plt.gca()\n",
    "ax.set_facecolor('white')\n",
    "ax.set_ylim(ymin, ymax)\n",
    "ax.axhline(chance_level, c='k', ls='--')\n",
    "ax.legend_.remove()\n",
    "#ax.text(-1, 1.05, 'A', fontsize=35)\n",
    "plt.savefig('Figure5a.png', bbox_inches='tight', dpi=200, facecolor='white')"
   ]
  },
  {
   "cell_type": "code",
   "execution_count": null,
   "metadata": {},
   "outputs": [],
   "source": [
    "g = sns.catplot(x='mapping', y='score', data=df, hue='emotion',\n",
    "                kind=\"bar\", aspect=3, height=5, ci='sd')\n",
    "g._legend.set_title('')\n",
    "plt.setp(g._legend.get_texts(), fontsize=15)\n",
    "\n",
    "ax = sns.stripplot(x='mapping', y='score', hue='emotion',\n",
    "              edgecolor='black', linewidth=0.4, data=df,\n",
    "              dodge=True, jitter=True)\n",
    "\n",
    "ax.set_xlabel('')\n",
    "ax.set_ylabel('AUROC', fontsize=20)\n",
    "ax.set_xticklabels(ax.get_xticklabels(), fontsize=13.5)\n",
    "\n",
    "n_emo = df['emotion'].unique().size\n",
    "for i in range(n_tk):\n",
    "    this_nc = nc['noise_ceiling']\n",
    "    this_sd = nc['sd']\n",
    "    plt.plot(np.linspace(i-0.35, i+0.35, num=6), this_nc, c='k', ls='-.')\n",
    "    plt.fill_between(\n",
    "        np.linspace(i-0.35, i+0.35, num=6),\n",
    "        this_nc - this_sd, this_nc + this_sd,\n",
    "        color='gray', alpha=0.3\n",
    ")\n",
    "\n",
    "ax = plt.gca()\n",
    "ax.set_ylim(ymin, ymax)\n",
    "ax.axhline(chance_level, c='k', ls='--')\n",
    "ax.legend_.remove()\n",
    "ax.text(-1, 1.05, 'B', fontsize=35)\n",
    "plt.savefig('Figure5b.png')"
   ]
  },
  {
   "cell_type": "markdown",
   "metadata": {},
   "source": [
    "## Figure 6"
   ]
  },
  {
   "cell_type": "code",
   "execution_count": null,
   "metadata": {
    "scrolled": false
   },
   "outputs": [],
   "source": [
    "nc = pd.read_csv('../results/noise_ceiling_per_intensity_level.tsv', sep='\\t', index_col=0)\n",
    "df_int = pd.read_csv('../results/score_per_intensity_quantile.tsv', sep='\\t', index_col=0)\n",
    "df_int = df_int.replace(map2leg)\n",
    "g = sns.catplot(x='emotion', y='score', data=df_int, hue='intensity', row='mapping',\n",
    "                kind=\"bar\", aspect=3, height=5, ci='sd')\n",
    "\n",
    "g._legend.set_title(' intensity\\n quantile')\n",
    "plt.setp(g._legend.get_title(), fontsize=15)\n",
    "plt.setp(g._legend.get_texts(), fontsize=15)\n",
    "for i, ax in enumerate(g.axes.flatten()):\n",
    "    ax.text(-.6, 1, map_names[i], fontsize=24, verticalalignment='top')\n",
    "    ax.set_title('')\n",
    "    for ii, emo in enumerate(nc['emotion'].unique()):\n",
    "        this_nc = nc.loc[nc['emotion'] == emo, 'noise_ceiling']\n",
    "        this_sd = nc.loc[nc['emotion'] == emo, 'sd']\n",
    "        ax.plot(np.linspace(ii-0.4, ii+0.4, num=4), this_nc, c='k', ls='-.')\n",
    "        ax.fill_between(\n",
    "            np.linspace(ii-0.4, ii+0.4, num=4),\n",
    "            this_nc - this_sd, this_nc + this_sd,\n",
    "            color='gray', alpha=0.3\n",
    "        )\n",
    "        ax.set_ylim(ymin, ymax)\n",
    "        ax.axhline(0.5, ls='--', c='k')\n",
    "        ax.set_ylabel(\"AUROC\", fontsize=20)\n",
    "\n",
    "g.set_xlabels('')\n",
    "g.set_xticklabels(df['emotion'].unique(), fontsize=20)\n",
    "\n",
    "g._legend.set_bbox_to_anchor([1.05, 0.9])\n",
    "plt.subplots_adjust(hspace=0.2)\n",
    "fig = plt.gcf()\n",
    "fig.tight_layout()\n",
    "fig.savefig('Figure6.png')\n",
    "#plt.close()"
   ]
  },
  {
   "cell_type": "markdown",
   "metadata": {},
   "source": [
    "## Figure 7"
   ]
  },
  {
   "cell_type": "code",
   "execution_count": null,
   "metadata": {},
   "outputs": [],
   "source": [
    "nc = pd.read_csv('../results/noise_ceiling_per_typicality_level.tsv', sep='\\t', index_col=0)\n",
    "df_int = pd.read_csv('../results/score_per_typicality_quantile.tsv', sep='\\t', index_col=0)\n",
    "df_int = df_int.replace(map2leg)\n",
    "g = sns.catplot(x='emotion', y='score', data=df_int, hue='max_sim', row='mapping',\n",
    "                kind=\"bar\", aspect=3, height=5, ci='sd')\n",
    "\n",
    "g._legend.set_title(' typicality\\n quantile')\n",
    "plt.setp(g._legend.get_title(), fontsize=15)\n",
    "plt.setp(g._legend.get_texts(), fontsize=15)\n",
    "for i, ax in enumerate(g.axes.flatten()):\n",
    "    ax.text(-.6, 1, map_names[i], fontsize=24, verticalalignment='top')\n",
    "    ax.set_title('')\n",
    "    for ii, emo in enumerate(nc['emotion'].unique()):\n",
    "        this_nc = nc.loc[nc['emotion'] == emo, 'noise_ceiling']\n",
    "        this_sd = nc.loc[nc['emotion'] == emo, 'sd']\n",
    "        ax.plot(np.linspace(ii-0.4, ii+0.4, num=4), this_nc, c='k', ls='-.')\n",
    "        ax.fill_between(\n",
    "            np.linspace(ii-0.4, ii+0.4, num=4),\n",
    "            this_nc - this_sd, this_nc + this_sd,\n",
    "            color='gray', alpha=0.3\n",
    "        )\n",
    "        ax.set_ylim(ymin, ymax)\n",
    "        ax.axhline(0.5, ls='--', c='k')\n",
    "        ax.set_ylabel(\"AUROC\", fontsize=20)\n",
    "\n",
    "g.set_xlabels('')\n",
    "g.set_xticklabels(df['emotion'].unique(), fontsize=20)\n",
    "\n",
    "g._legend.set_bbox_to_anchor([1.05, 0.9])\n",
    "plt.subplots_adjust(hspace=0.2)\n",
    "fig = plt.gcf()\n",
    "fig.tight_layout()\n",
    "fig.savefig('Figure6.png')\n",
    "#plt.close()"
   ]
  },
  {
   "cell_type": "markdown",
   "metadata": {},
   "source": [
    "## Hyperparameter figure"
   ]
  },
  {
   "cell_type": "code",
   "execution_count": null,
   "metadata": {},
   "outputs": [],
   "source": [
    "nc = pd.read_csv('../results/noise_ceiling.tsv', sep='\\t', index_col=0)\n",
    "hp_df = pd.read_csv('../results/hyperparameter_scores.tsv', sep='\\t', index_col=0)\n",
    "KERNEL = 'cosine'\n",
    "g = sns.catplot(x='emotion', y='score', data=hp_df.query(\"kernel == @KERNEL\"), hue='beta', row='mapping',\n",
    "                kind=\"bar\", aspect=3, height=5, ci='sd')\n",
    "\n",
    "g._legend.set_title(r'$\\beta$')\n",
    "plt.setp(g._legend.get_title(), fontsize=25)\n",
    "plt.setp(g._legend.get_texts(), fontsize=25)\n",
    "for i, ax in enumerate(g.axes.flatten()):\n",
    "    ax.text(-.6, 1, map_names[i], fontsize=24, verticalalignment='top')\n",
    "    ax.set_title('')\n",
    "    for ii, emo in enumerate(nc['emotion'].unique()):\n",
    "        this_nc = nc.loc[nc['emotion'] == emo, 'noise_ceiling']\n",
    "        this_sd = nc.loc[nc['emotion'] == emo, 'sd']\n",
    "        ax.plot(np.linspace(ii-0.4, ii+0.4, num=5), [this_nc]*5, c='k', ls='-.')\n",
    "        ax.fill_between(\n",
    "            np.linspace(ii-0.4, ii+0.4, num=5),\n",
    "            this_nc - this_sd, this_nc + this_sd,\n",
    "            color='gray', alpha=0.3\n",
    "        )\n",
    "        ax.set_ylim(ymin, ymax)\n",
    "        ax.axhline(0.5, ls='--', c='k')\n",
    "        ax.set_ylabel(\"AUROC\", fontsize=20)\n",
    "\n",
    "g.set_xlabels('')\n",
    "g.set_xticklabels(df['emotion'].unique(), fontsize=20)\n",
    "\n",
    "g._legend.set_bbox_to_anchor([1.05, 0.9])\n",
    "plt.subplots_adjust(hspace=0.2)\n",
    "fig = plt.gcf()\n",
    "fig.tight_layout();"
   ]
  },
  {
   "cell_type": "code",
   "execution_count": null,
   "metadata": {
    "scrolled": false
   },
   "outputs": [],
   "source": [
    "hp_df = pd.read_csv('../results/hyperparameter_scores.tsv', sep='\\t', index_col=0)\n",
    "BETA = 1\n",
    "g = sns.catplot(x='emotion', y='score', data=hp_df.query(\"beta == @BETA\"), hue='kernel', row='mapping',\n",
    "                kind=\"bar\", aspect=3, height=5, ci='sd')\n",
    "\n",
    "g._legend.set_title('Kernel')\n",
    "plt.setp(g._legend.get_title(), fontsize=25)\n",
    "plt.setp(g._legend.get_texts(), fontsize=25)\n",
    "for i, ax in enumerate(g.axes.flatten()):\n",
    "    ax.text(-.6, 1, map_names[i], fontsize=24, verticalalignment='top')\n",
    "    ax.set_title('')\n",
    "    for ii, emo in enumerate(nc['emotion'].unique()):\n",
    "        this_nc = nc.loc[nc['emotion'] == emo, 'noise_ceiling']\n",
    "        this_sd = nc.loc[nc['emotion'] == emo, 'sd']\n",
    "        ax.plot(np.linspace(ii-0.4, ii+0.4, num=5), [this_nc]*5, c='k', ls='-.')\n",
    "        ax.fill_between(\n",
    "            np.linspace(ii-0.4, ii+0.4, num=5),\n",
    "            this_nc - this_sd, this_nc + this_sd,\n",
    "            color='gray', alpha=0.3\n",
    "        )\n",
    "        ax.set_ylim(ymin, ymax)\n",
    "        ax.axhline(0.5, ls='--', c='k')\n",
    "        ax.set_ylabel(\"AUROC\", fontsize=20)\n",
    "\n",
    "g.set_xlabels('')\n",
    "g.set_xticklabels(df['emotion'].unique(), fontsize=20)\n",
    "\n",
    "g._legend.set_bbox_to_anchor([1.1, 0.9])\n",
    "plt.subplots_adjust(hspace=0.2)\n",
    "fig = plt.gcf()\n",
    "fig.tight_layout();"
   ]
  },
  {
   "cell_type": "markdown",
   "metadata": {},
   "source": [
    "## Figure x: bias simulations"
   ]
  },
  {
   "cell_type": "code",
   "execution_count": null,
   "metadata": {},
   "outputs": [],
   "source": [
    "df_naus = pd.read_csv('../results/scores_bias_simulation_n_aus.tsv', sep='\\t', index_col=0)\n",
    "df_naus = df_naus.groupby(['mapping', 'n_aus', 'emotion']).mean().reset_index()\n",
    "\n",
    "df_nconf = pd.read_csv('../results/scores_bias_simulation_n_configs.tsv', sep='\\t', index_col=0)\n",
    "df_nconf = df_nconf.groupby(['mapping', 'n_configs', 'emotion']).mean().reset_index()\n",
    "\n",
    "fig, axes = plt.subplots(ncols=2, sharey=True, figsize=(12, 5))\n",
    "sns.barplot(x='n_aus', y='score', data=df_naus, ci='sd', ax=axes[0])\n",
    "sns.barplot(x='n_configs', y='score', data=df_nconf, ci='sd', ax=axes[1])\n",
    "sns.despine()\n",
    "axes[0].set_ylim(0.2, 0.8)\n",
    "for ax in axes:\n",
    "    ax.axhline(0.5, ls='--', c='k')\n",
    "\n",
    "axes[0].set_ylabel('AUROC', fontsize=20)\n",
    "axes[1].set_ylabel('')\n",
    "axes[0].set_xlabel('Number of AUs per config', fontsize=20)\n",
    "axes[1].set_xlabel('Number of configs per class', fontsize=20)\n",
    "\n",
    "axes[0].text(-0.9, 0.85, 'A', fontsize=35)\n",
    "axes[1].text(-0.9, 0.85, 'B', fontsize=35)\n",
    "\n",
    "fig.tight_layout()"
   ]
  },
  {
   "cell_type": "code",
   "execution_count": null,
   "metadata": {},
   "outputs": [],
   "source": [
    "from scipy.stats import ttest_1samp\n",
    "for emo in df_naus.emotion.unique():\n",
    "    for n_au in df_naus.n_aus.unique():\n",
    "        tmp_df = df_naus.query(\"emotion == @emo & n_aus == @n_au\")\n",
    "        print(ttest_1samp(tmp_df.score, 0.5))"
   ]
  },
  {
   "cell_type": "markdown",
   "metadata": {},
   "source": [
    "## Probabilistic predictions vs. discrete predictions"
   ]
  },
  {
   "cell_type": "code",
   "execution_count": null,
   "metadata": {},
   "outputs": [],
   "source": [
    "pp_df = pd.read_csv('../results/prob_vs_discrete_scores.tsv', sep='\\t', index_col=0)\n",
    "g = sns.catplot(x='mapping', y='score', data=pp_df, hue='method',\n",
    "                kind=\"bar\", aspect=3, height=5, ci='sd')\n",
    "ax = g.axes[0, 0]\n",
    "ax.set_xticklabels(ax.get_xticklabels(), fontsize=20)\n",
    "ax.set_xlabel('')\n",
    "ax.set_ylabel('Score', fontsize=20)\n",
    "ax.set_ylim(0.4, 1)\n",
    "ax.axhline(0.5, ls='--', c='k')\n",
    "leg = g._legend\n",
    "leg.set_title('')\n",
    "leg.get_texts()[0].set_text('discrete')\n",
    "leg.get_texts()[0].set_fontsize(20)\n",
    "leg.get_texts()[1].set_text('probabilistic')\n",
    "leg.get_texts()[1].set_fontsize(20)\n",
    "leg.set_bbox_to_anchor([0, 0, 0.2, 1.75])"
   ]
  },
  {
   "cell_type": "code",
   "execution_count": null,
   "metadata": {},
   "outputs": [],
   "source": [
    "ml_df = pd.read_csv('../results/method-ml_analysis-between_auroc.tsv', sep='\\t', index_col=0)\n",
    "\n",
    "g = sns.catplot(x='emotion', y='score', data=ml_df,\n",
    "                kind=\"bar\", aspect=3, height=5, ci='sd')\n",
    "\n",
    "g = sns.stripplot(x='emotion', y='score', data=ml_df,\n",
    "                  edgecolor='black', linewidth=0.4)\n",
    "\n",
    "ax = plt.gca()\n",
    "ax.axhline(0.5, ls='--', c='k')\n",
    "ax.set_ylim(0.4, 1.)\n",
    "\n",
    "nc = pd.read_csv('../results/noise_ceiling_half_subjects.tsv', sep='\\t', index_col=0)\n",
    "#nc = nc.query(\"participant_id == 'between_subjects' & intensity == 0\")\n",
    "\n",
    "for i in range(6):\n",
    "    this_nc = np.array([nc['noise_ceiling'].iloc[i]])\n",
    "    this_sd = np.array([nc['sd'].iloc[i]])\n",
    "    plt.plot(np.linspace(i-0.35, i+0.35, num=6), [this_nc]*6, c='k', ls='-.', lw=0.5)\n",
    "    plt.fill_between(\n",
    "        np.linspace(i-0.35, i+0.35, num=6),\n",
    "        this_nc - this_sd, this_nc + this_sd,\n",
    "        color='gray', alpha=0.3\n",
    "    )\n",
    "\n",
    "plt.xlabel('')\n",
    "plt.ylabel('AUROC', fontsize=20)\n",
    "plt.gca().set_xticklabels(plt.gca().get_xticklabels(), fontsize=20)"
   ]
  }
 ],
 "metadata": {
  "kernelspec": {
   "display_name": "Python 3",
   "language": "python",
   "name": "python3"
  },
  "language_info": {
   "codemirror_mode": {
    "name": "ipython",
    "version": 3
   },
   "file_extension": ".py",
   "mimetype": "text/x-python",
   "name": "python",
   "nbconvert_exporter": "python",
   "pygments_lexer": "ipython3",
   "version": "3.8.5"
  },
  "toc": {
   "base_numbering": 1,
   "nav_menu": {},
   "number_sections": true,
   "sideBar": true,
   "skip_h1_title": true,
   "title_cell": "Table of Contents",
   "title_sidebar": "Contents",
   "toc_cell": false,
   "toc_position": {},
   "toc_section_display": true,
   "toc_window_display": true
  }
 },
 "nbformat": 4,
 "nbformat_minor": 4
}